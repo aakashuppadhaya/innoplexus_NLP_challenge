{
 "cells": [
  {
   "cell_type": "code",
   "execution_count": 1,
   "metadata": {},
   "outputs": [],
   "source": [
    "import pandas as pd\n",
    "import nltk\n",
    "import seaborn as sns"
   ]
  },
  {
   "cell_type": "code",
   "execution_count": 2,
   "metadata": {},
   "outputs": [],
   "source": [
    "df=pd.read_csv('train.csv')"
   ]
  },
  {
   "cell_type": "code",
   "execution_count": 3,
   "metadata": {},
   "outputs": [
    {
     "data": {
      "text/html": [
       "<div>\n",
       "<style scoped>\n",
       "    .dataframe tbody tr th:only-of-type {\n",
       "        vertical-align: middle;\n",
       "    }\n",
       "\n",
       "    .dataframe tbody tr th {\n",
       "        vertical-align: top;\n",
       "    }\n",
       "\n",
       "    .dataframe thead th {\n",
       "        text-align: right;\n",
       "    }\n",
       "</style>\n",
       "<table border=\"1\" class=\"dataframe\">\n",
       "  <thead>\n",
       "    <tr style=\"text-align: right;\">\n",
       "      <th></th>\n",
       "      <th>id</th>\n",
       "      <th>Doc_ID</th>\n",
       "      <th>Sent_ID</th>\n",
       "      <th>Word</th>\n",
       "      <th>tag</th>\n",
       "    </tr>\n",
       "  </thead>\n",
       "  <tbody>\n",
       "    <tr>\n",
       "      <th>0</th>\n",
       "      <td>1</td>\n",
       "      <td>1</td>\n",
       "      <td>1</td>\n",
       "      <td>Obesity</td>\n",
       "      <td>O</td>\n",
       "    </tr>\n",
       "    <tr>\n",
       "      <th>1</th>\n",
       "      <td>2</td>\n",
       "      <td>1</td>\n",
       "      <td>1</td>\n",
       "      <td>in</td>\n",
       "      <td>O</td>\n",
       "    </tr>\n",
       "    <tr>\n",
       "      <th>2</th>\n",
       "      <td>3</td>\n",
       "      <td>1</td>\n",
       "      <td>1</td>\n",
       "      <td>Low-</td>\n",
       "      <td>O</td>\n",
       "    </tr>\n",
       "    <tr>\n",
       "      <th>3</th>\n",
       "      <td>4</td>\n",
       "      <td>1</td>\n",
       "      <td>1</td>\n",
       "      <td>and</td>\n",
       "      <td>O</td>\n",
       "    </tr>\n",
       "    <tr>\n",
       "      <th>4</th>\n",
       "      <td>5</td>\n",
       "      <td>1</td>\n",
       "      <td>1</td>\n",
       "      <td>Middle-Income</td>\n",
       "      <td>O</td>\n",
       "    </tr>\n",
       "  </tbody>\n",
       "</table>\n",
       "</div>"
      ],
      "text/plain": [
       "   id  Doc_ID  Sent_ID           Word tag\n",
       "0   1       1        1        Obesity   O\n",
       "1   2       1        1             in   O\n",
       "2   3       1        1           Low-   O\n",
       "3   4       1        1            and   O\n",
       "4   5       1        1  Middle-Income   O"
      ]
     },
     "execution_count": 3,
     "metadata": {},
     "output_type": "execute_result"
    }
   ],
   "source": [
    "df.head()"
   ]
  },
  {
   "cell_type": "code",
   "execution_count": 4,
   "metadata": {},
   "outputs": [
    {
     "data": {
      "text/plain": [
       "O                4446206\n",
       "B-indications      53003\n",
       "I-indications      44624\n",
       "Name: tag, dtype: int64"
      ]
     },
     "execution_count": 4,
     "metadata": {},
     "output_type": "execute_result"
    }
   ],
   "source": [
    "df['tag'].value_counts()"
   ]
  },
  {
   "cell_type": "code",
   "execution_count": 5,
   "metadata": {},
   "outputs": [
    {
     "name": "stdout",
     "output_type": "stream",
     "text": [
      "<class 'pandas.core.frame.DataFrame'>\n",
      "RangeIndex: 4543833 entries, 0 to 4543832\n",
      "Data columns (total 5 columns):\n",
      "id         int64\n",
      "Doc_ID     int64\n",
      "Sent_ID    int64\n",
      "Word       object\n",
      "tag        object\n",
      "dtypes: int64(3), object(2)\n",
      "memory usage: 173.3+ MB\n"
     ]
    }
   ],
   "source": [
    "df.info()"
   ]
  },
  {
   "cell_type": "code",
   "execution_count": 7,
   "metadata": {},
   "outputs": [],
   "source": [
    "# import and instantiate CountVectorizer (with the default parameters)\n",
    "from sklearn.feature_extraction.text import CountVectorizer, TfidfVectorizer\n",
    "vect = CountVectorizer()"
   ]
  },
  {
   "cell_type": "code",
   "execution_count": 29,
   "metadata": {},
   "outputs": [
    {
     "data": {
      "text/plain": [
       "CountVectorizer(analyzer='word', binary=False, decode_error='strict',\n",
       "        dtype=<class 'numpy.int64'>, encoding='utf-8', input='content',\n",
       "        lowercase=True, max_df=0.5, max_features=None, min_df=1000,\n",
       "        ngram_range=(1, 2), preprocessor=None, stop_words='english',\n",
       "        strip_accents=None, token_pattern='(?u)\\\\b\\\\w\\\\w+\\\\b',\n",
       "        tokenizer=<bound method TreebankWordTokenizer.tokenize of <nltk.tokenize.treebank.TreebankWordTokenizer object at 0x000002CB807D7898>>,\n",
       "        vocabulary=None)"
      ]
     },
     "execution_count": 29,
     "metadata": {},
     "output_type": "execute_result"
    }
   ],
   "source": [
    "from nltk.tokenize import TreebankWordTokenizer\n",
    "tokenizer = TreebankWordTokenizer()\n",
    "vect.set_params(tokenizer=tokenizer.tokenize)\n",
    "\n",
    "# remove English stop words\n",
    "vect.set_params(stop_words='english')\n",
    "\n",
    "# include 1-grams and 2-grams\n",
    "vect.set_params(ngram_range=(1,2))\n",
    "\n",
    "# ignore terms that appear in more than 50% of the documents\n",
    "vect.set_params(max_df=0.5)\n",
    "\n",
    "# only keep terms that appear in at least 2 documents\n",
    "vect.set_params(min_df=1000)"
   ]
  },
  {
   "cell_type": "code",
   "execution_count": 8,
   "metadata": {},
   "outputs": [],
   "source": [
    "df1=df.copy()"
   ]
  },
  {
   "cell_type": "code",
   "execution_count": 9,
   "metadata": {},
   "outputs": [],
   "source": [
    "df1.drop(['id','Doc_ID','Sent_ID'],axis=1,inplace=True)"
   ]
  },
  {
   "cell_type": "code",
   "execution_count": 10,
   "metadata": {},
   "outputs": [
    {
     "data": {
      "text/html": [
       "<div>\n",
       "<style scoped>\n",
       "    .dataframe tbody tr th:only-of-type {\n",
       "        vertical-align: middle;\n",
       "    }\n",
       "\n",
       "    .dataframe tbody tr th {\n",
       "        vertical-align: top;\n",
       "    }\n",
       "\n",
       "    .dataframe thead th {\n",
       "        text-align: right;\n",
       "    }\n",
       "</style>\n",
       "<table border=\"1\" class=\"dataframe\">\n",
       "  <thead>\n",
       "    <tr style=\"text-align: right;\">\n",
       "      <th></th>\n",
       "      <th>Word</th>\n",
       "      <th>tag</th>\n",
       "    </tr>\n",
       "  </thead>\n",
       "  <tbody>\n",
       "    <tr>\n",
       "      <th>0</th>\n",
       "      <td>Obesity</td>\n",
       "      <td>O</td>\n",
       "    </tr>\n",
       "    <tr>\n",
       "      <th>1</th>\n",
       "      <td>in</td>\n",
       "      <td>O</td>\n",
       "    </tr>\n",
       "    <tr>\n",
       "      <th>2</th>\n",
       "      <td>Low-</td>\n",
       "      <td>O</td>\n",
       "    </tr>\n",
       "    <tr>\n",
       "      <th>3</th>\n",
       "      <td>and</td>\n",
       "      <td>O</td>\n",
       "    </tr>\n",
       "    <tr>\n",
       "      <th>4</th>\n",
       "      <td>Middle-Income</td>\n",
       "      <td>O</td>\n",
       "    </tr>\n",
       "  </tbody>\n",
       "</table>\n",
       "</div>"
      ],
      "text/plain": [
       "            Word tag\n",
       "0        Obesity   O\n",
       "1             in   O\n",
       "2           Low-   O\n",
       "3            and   O\n",
       "4  Middle-Income   O"
      ]
     },
     "execution_count": 10,
     "metadata": {},
     "output_type": "execute_result"
    }
   ],
   "source": [
    "df1.head()"
   ]
  },
  {
   "cell_type": "code",
   "execution_count": 11,
   "metadata": {},
   "outputs": [
    {
     "data": {
      "text/plain": [
       "['Word']"
      ]
     },
     "execution_count": 11,
     "metadata": {},
     "output_type": "execute_result"
    }
   ],
   "source": [
    "df1.columns[df1.isna().any()].tolist()"
   ]
  },
  {
   "cell_type": "code",
   "execution_count": 12,
   "metadata": {},
   "outputs": [],
   "source": [
    "df1['Word'] = df1['Word'].fillna(df1['Word'].mode()[0])"
   ]
  },
  {
   "cell_type": "code",
   "execution_count": 13,
   "metadata": {},
   "outputs": [],
   "source": [
    "labels=df1['tag']\n",
    "trainX=df1['Word']"
   ]
  },
  {
   "cell_type": "code",
   "execution_count": 5,
   "metadata": {},
   "outputs": [
    {
     "name": "stderr",
     "output_type": "stream",
     "text": [
      "C:\\Users\\Aakash\\Anaconda3\\lib\\site-packages\\sklearn\\model_selection\\_split.py:2179: FutureWarning: From version 0.21, test_size will always complement train_size unless both are specified.\n",
      "  FutureWarning)\n"
     ]
    },
    {
     "data": {
      "text/plain": [
       "2606213              neurons\n",
       "836274             editorial\n",
       "1603279              control\n",
       "3699279                   95\n",
       "1391385           identified\n",
       "969932                    I.\n",
       "2895721              Steroid\n",
       "2413390          feasibility\n",
       "3306754            mechanism\n",
       "1487006                    ,\n",
       "2599071               phases\n",
       "4156565                 jump\n",
       "322403                     É\n",
       "4115285                    )\n",
       "1813822                  may\n",
       "3272436                    5\n",
       "1549898                    a\n",
       "2565112                    1\n",
       "123285               treated\n",
       "1309046                  for\n",
       "1338776           attachment\n",
       "275824                    os\n",
       "2075975                  key\n",
       "966905                    or\n",
       "3499416            adversely\n",
       "1064177               common\n",
       "4078593            platelets\n",
       "1775985             nitrogen\n",
       "1587363                close\n",
       "654953                 lines\n",
       "                 ...        \n",
       "2018437                   to\n",
       "124042                K-free\n",
       "3682051                   To\n",
       "96466                    not\n",
       "1354269             electron\n",
       "579972              required\n",
       "4419756            mechanism\n",
       "6653                     and\n",
       "581933         ferromagnetic\n",
       "897049              received\n",
       "1073157                cloud\n",
       "3414689            separated\n",
       "1223405             identify\n",
       "2145621                   by\n",
       "1083273            mortality\n",
       "3381385                 PGE1\n",
       "4412029                    4\n",
       "3883774                    ,\n",
       "41066                    eba\n",
       "147863                 nerve\n",
       "4088605    posttranslational\n",
       "1633814                   or\n",
       "83217            periodontal\n",
       "4208275              several\n",
       "428922                    24\n",
       "2838774                   to\n",
       "3970738             Tricyclo\n",
       "2961881                    )\n",
       "1157989            cisplatin\n",
       "909593                plasma\n",
       "Name: Word, Length: 3635066, dtype: object"
      ]
     },
     "execution_count": 5,
     "metadata": {},
     "output_type": "execute_result"
    }
   ],
   "source": [
    "from sklearn.model_selection import train_test_split\n",
    "X_train, X_test, y_train, y_test = train_test_split(trainX, labels, train_size = 0.8)\n",
    "\n",
    "X_train"
   ]
  },
  {
   "cell_type": "code",
   "execution_count": 33,
   "metadata": {},
   "outputs": [
    {
     "data": {
      "text/plain": [
       "['%',\n",
       " '&',\n",
       " \"'\",\n",
       " \"''\",\n",
       " \"'s\",\n",
       " '(',\n",
       " ')',\n",
       " '+/-',\n",
       " ',',\n",
       " '.',\n",
       " '0.05',\n",
       " '1',\n",
       " '10',\n",
       " '12',\n",
       " '2',\n",
       " '20',\n",
       " '3',\n",
       " '4',\n",
       " '5',\n",
       " '6',\n",
       " '95',\n",
       " ':',\n",
       " ';',\n",
       " '<',\n",
       " '=',\n",
       " '>',\n",
       " '[',\n",
       " ']',\n",
       " '``',\n",
       " 'acid',\n",
       " 'activation',\n",
       " 'activity',\n",
       " 'acute',\n",
       " 'addition',\n",
       " 'age',\n",
       " 'analysis',\n",
       " 'approach',\n",
       " 'assessment',\n",
       " 'associated',\n",
       " 'association',\n",
       " 'b',\n",
       " 'based',\n",
       " 'binding',\n",
       " 'blood',\n",
       " 'body',\n",
       " 'bone',\n",
       " 'brain',\n",
       " 'c',\n",
       " 'cancer',\n",
       " 'care']"
      ]
     },
     "execution_count": 33,
     "metadata": {},
     "output_type": "execute_result"
    }
   ],
   "source": [
    "# learn the 'vocabulary' of the training data\n",
    "vect.fit(X_train)\n",
    "\n",
    "# examine the fitted vocabulary\n",
    "vect.get_feature_names()[:50]"
   ]
  },
  {
   "cell_type": "code",
   "execution_count": 23,
   "metadata": {},
   "outputs": [
    {
     "data": {
      "text/plain": [
       "['#',\n",
       " '$',\n",
       " '%',\n",
       " '&',\n",
       " \"'\",\n",
       " \"''\",\n",
       " \"'s\",\n",
       " '(',\n",
       " ')',\n",
       " '+',\n",
       " '+/-',\n",
       " ',',\n",
       " '-',\n",
       " '--',\n",
       " '-/-',\n",
       " '-1',\n",
       " '.',\n",
       " '...',\n",
       " '.001',\n",
       " '.05',\n",
       " '/',\n",
       " '/em',\n",
       " '/i',\n",
       " '/p',\n",
       " '0',\n",
       " '0.0001',\n",
       " '0.001',\n",
       " '0.01',\n",
       " '0.02',\n",
       " '0.03',\n",
       " '0.05',\n",
       " '0.1',\n",
       " '0.2',\n",
       " '0.3',\n",
       " '0.5',\n",
       " '1',\n",
       " '1.0',\n",
       " '1.2',\n",
       " '1.5',\n",
       " '10',\n",
       " '100',\n",
       " '11',\n",
       " '12',\n",
       " '120',\n",
       " '13',\n",
       " '14',\n",
       " '15',\n",
       " '150',\n",
       " '16',\n",
       " '17',\n",
       " '18',\n",
       " '19',\n",
       " '2',\n",
       " '2+',\n",
       " '2-',\n",
       " '2.5',\n",
       " '20',\n",
       " '200',\n",
       " '2000',\n",
       " '2001',\n",
       " '2002',\n",
       " '2003',\n",
       " '2004',\n",
       " '2005',\n",
       " '2006',\n",
       " '2007',\n",
       " '2008',\n",
       " '2009',\n",
       " '2010',\n",
       " '2011',\n",
       " '2012',\n",
       " '2013',\n",
       " '2014',\n",
       " '2015',\n",
       " '2016',\n",
       " '21',\n",
       " '22',\n",
       " '23',\n",
       " '24',\n",
       " '25',\n",
       " '250',\n",
       " '26',\n",
       " '27',\n",
       " '28',\n",
       " '29',\n",
       " '3',\n",
       " '30',\n",
       " '300',\n",
       " '31',\n",
       " '32',\n",
       " '33',\n",
       " '34',\n",
       " '35',\n",
       " '36',\n",
       " '37',\n",
       " '38',\n",
       " '39',\n",
       " '3d',\n",
       " '3h',\n",
       " '4',\n",
       " '40',\n",
       " '400',\n",
       " '41',\n",
       " '42',\n",
       " '43',\n",
       " '44',\n",
       " '45',\n",
       " '46',\n",
       " '47',\n",
       " '48',\n",
       " '49',\n",
       " '5',\n",
       " '50',\n",
       " '500',\n",
       " '51',\n",
       " '52',\n",
       " '53',\n",
       " '54',\n",
       " '55',\n",
       " '56',\n",
       " '57',\n",
       " '58',\n",
       " '59',\n",
       " '6',\n",
       " '60',\n",
       " '62',\n",
       " '63',\n",
       " '64',\n",
       " '65',\n",
       " '67',\n",
       " '68',\n",
       " '7',\n",
       " '70',\n",
       " '71',\n",
       " '72',\n",
       " '73',\n",
       " '74',\n",
       " '75',\n",
       " '8',\n",
       " '80',\n",
       " '82',\n",
       " '84',\n",
       " '85',\n",
       " '9',\n",
       " '90',\n",
       " '95',\n",
       " '96',\n",
       " ':',\n",
       " ';',\n",
       " '<',\n",
       " '=',\n",
       " '>',\n",
       " '?',\n",
       " '[',\n",
       " ']',\n",
       " '``',\n",
       " 'aa',\n",
       " 'abdominal',\n",
       " 'ability',\n",
       " 'ablation',\n",
       " 'able',\n",
       " 'abnormal',\n",
       " 'abnormalities',\n",
       " 'abortion',\n",
       " 'absence',\n",
       " 'absolute',\n",
       " 'absorption',\n",
       " 'abstract',\n",
       " 'abundance',\n",
       " 'abundant',\n",
       " 'abuse',\n",
       " 'academic',\n",
       " 'accent',\n",
       " 'acceptable',\n",
       " 'accepted',\n",
       " 'access',\n",
       " 'accompanied',\n",
       " 'according',\n",
       " 'account',\n",
       " 'accounted',\n",
       " 'accumulation',\n",
       " 'accuracy',\n",
       " 'accurate',\n",
       " 'accurately',\n",
       " 'acetate',\n",
       " 'achieve',\n",
       " 'achieved',\n",
       " 'achievement',\n",
       " 'acid',\n",
       " 'acidic',\n",
       " 'acids',\n",
       " 'acoustic',\n",
       " 'acquired',\n",
       " 'acquisition',\n",
       " 'act',\n",
       " 'actin',\n",
       " 'acting',\n",
       " 'action',\n",
       " 'actions',\n",
       " 'activate',\n",
       " 'activated',\n",
       " 'activation',\n",
       " 'activator',\n",
       " 'active',\n",
       " 'activities',\n",
       " 'activity',\n",
       " 'actual',\n",
       " 'acuity',\n",
       " 'acute',\n",
       " 'ad',\n",
       " 'adaptation',\n",
       " 'adaptive',\n",
       " 'added',\n",
       " 'addition',\n",
       " 'additional',\n",
       " 'additionally',\n",
       " 'address',\n",
       " 'addressed',\n",
       " 'adenocarcinoma',\n",
       " 'adenosine',\n",
       " 'adequate',\n",
       " 'adhd',\n",
       " 'adherence',\n",
       " 'adhesion',\n",
       " 'adipose',\n",
       " 'adjacent',\n",
       " 'adjusted',\n",
       " 'adjustment',\n",
       " 'adjuvant',\n",
       " 'administered',\n",
       " 'administration',\n",
       " 'admission',\n",
       " 'admitted',\n",
       " 'adolescent',\n",
       " 'adolescents',\n",
       " 'adrenal',\n",
       " 'adsorption',\n",
       " 'adult',\n",
       " 'adults',\n",
       " 'advanced',\n",
       " 'advances',\n",
       " 'advantage',\n",
       " 'advantages',\n",
       " 'adverse',\n",
       " 'aerobic',\n",
       " 'af',\n",
       " 'affect',\n",
       " 'affected',\n",
       " 'affecting',\n",
       " 'affects',\n",
       " 'affinity',\n",
       " 'africa',\n",
       " 'african',\n",
       " 'age',\n",
       " 'age-related',\n",
       " 'aged',\n",
       " 'agent',\n",
       " 'agents',\n",
       " 'ages',\n",
       " 'aggregation',\n",
       " 'aggressive',\n",
       " 'aging',\n",
       " 'agonist',\n",
       " 'agonists',\n",
       " 'agreement',\n",
       " 'aid',\n",
       " 'aids',\n",
       " 'aim',\n",
       " 'aimed',\n",
       " 'aims',\n",
       " 'air',\n",
       " 'airway',\n",
       " 'al',\n",
       " 'albumin',\n",
       " 'alcohol',\n",
       " 'algorithm',\n",
       " 'algorithms',\n",
       " 'alkaline',\n",
       " 'allele',\n",
       " 'alleles',\n",
       " 'allergic',\n",
       " 'allergy',\n",
       " 'allow',\n",
       " 'allowed',\n",
       " 'allowing',\n",
       " 'allows',\n",
       " 'alpha',\n",
       " 'alter',\n",
       " 'alterations',\n",
       " 'altered',\n",
       " 'alternative',\n",
       " 'alzheimer',\n",
       " 'american',\n",
       " 'amino',\n",
       " 'amounts',\n",
       " 'amp',\n",
       " 'amplification',\n",
       " 'amplitude',\n",
       " 'analysed',\n",
       " 'analyses',\n",
       " 'analysis',\n",
       " 'analytical',\n",
       " 'analyze',\n",
       " 'analyzed',\n",
       " 'anatomical',\n",
       " 'and/or',\n",
       " 'anemia',\n",
       " 'anesthesia',\n",
       " 'aneurysm',\n",
       " 'aneurysms',\n",
       " 'angiogenesis',\n",
       " 'angiography',\n",
       " 'angle',\n",
       " 'animal',\n",
       " 'animals',\n",
       " 'ankle',\n",
       " 'annual',\n",
       " 'antagonist',\n",
       " 'antagonists',\n",
       " 'anterior',\n",
       " 'anti-inflammatory',\n",
       " 'antibiotic',\n",
       " 'antibiotics',\n",
       " 'antibodies',\n",
       " 'antibody',\n",
       " 'antigen',\n",
       " 'antigens',\n",
       " 'antimicrobial',\n",
       " 'antioxidant',\n",
       " 'anxiety',\n",
       " 'aorta',\n",
       " 'aortic',\n",
       " 'apoptosis',\n",
       " 'apoptotic',\n",
       " 'apparent',\n",
       " 'appear',\n",
       " 'appearance',\n",
       " 'appeared',\n",
       " 'appears',\n",
       " 'application',\n",
       " 'applications',\n",
       " 'applied',\n",
       " 'approach',\n",
       " 'approaches',\n",
       " 'appropriate',\n",
       " 'approximately',\n",
       " 'april',\n",
       " 'aqueous',\n",
       " 'arabidopsis',\n",
       " 'architecture',\n",
       " 'area',\n",
       " 'areas',\n",
       " 'arising',\n",
       " 'arm',\n",
       " 'array',\n",
       " 'arrest',\n",
       " 'art',\n",
       " 'arterial',\n",
       " 'arteries',\n",
       " 'artery',\n",
       " 'arthritis',\n",
       " 'article',\n",
       " 'articles',\n",
       " 'artificial',\n",
       " 'aspects',\n",
       " 'aspiration',\n",
       " 'assay',\n",
       " 'assays',\n",
       " 'assembly',\n",
       " 'assess',\n",
       " 'assessed',\n",
       " 'assessing',\n",
       " 'assessment',\n",
       " 'assessments',\n",
       " 'assigned',\n",
       " 'associated',\n",
       " 'association',\n",
       " 'associations',\n",
       " 'asthma',\n",
       " 'asymptomatic',\n",
       " 'atherosclerosis',\n",
       " 'atomic',\n",
       " 'atoms',\n",
       " 'atp',\n",
       " 'atrial',\n",
       " 'attachment',\n",
       " 'attempt',\n",
       " 'attempts',\n",
       " 'attention',\n",
       " 'attenuated',\n",
       " 'attitudes',\n",
       " 'attributed',\n",
       " 'atypical',\n",
       " 'au',\n",
       " 'auc',\n",
       " 'auditory',\n",
       " 'aureus',\n",
       " 'australia',\n",
       " 'author',\n",
       " 'authors',\n",
       " 'autism',\n",
       " 'autoimmune',\n",
       " 'autologous',\n",
       " 'automated',\n",
       " 'autonomic',\n",
       " 'autophagy',\n",
       " 'availability',\n",
       " 'available',\n",
       " 'average',\n",
       " 'avoid',\n",
       " 'awareness',\n",
       " 'axis',\n",
       " 'axons',\n",
       " 'b',\n",
       " 'b .',\n",
       " 'background',\n",
       " 'bacteria',\n",
       " 'bacterial',\n",
       " 'balance',\n",
       " 'band',\n",
       " 'barrier',\n",
       " 'barriers',\n",
       " 'basal',\n",
       " 'base',\n",
       " 'based',\n",
       " 'baseline',\n",
       " 'basic',\n",
       " 'basis',\n",
       " 'beam',\n",
       " 'bearing',\n",
       " 'beginning',\n",
       " 'behavior',\n",
       " 'behavioral',\n",
       " 'behaviors',\n",
       " 'behaviour',\n",
       " 'beneficial',\n",
       " 'benefit',\n",
       " 'benefits',\n",
       " 'benign',\n",
       " 'best',\n",
       " 'beta',\n",
       " 'better',\n",
       " 'bias',\n",
       " 'bilateral',\n",
       " 'bile',\n",
       " 'biliary',\n",
       " 'bind',\n",
       " 'binding',\n",
       " 'binds',\n",
       " 'biochemical',\n",
       " 'biological',\n",
       " 'biology',\n",
       " 'biomarker',\n",
       " 'biomarkers',\n",
       " 'biomass',\n",
       " 'biopsies',\n",
       " 'biopsy',\n",
       " 'biosynthesis',\n",
       " 'bipolar',\n",
       " 'birds',\n",
       " 'birth',\n",
       " 'black',\n",
       " 'bladder',\n",
       " 'bleeding',\n",
       " 'block',\n",
       " 'blockade',\n",
       " 'blocked',\n",
       " 'blood',\n",
       " 'blot',\n",
       " 'blue',\n",
       " 'bmd',\n",
       " 'bmi',\n",
       " 'bodies',\n",
       " 'body',\n",
       " 'bond',\n",
       " 'bone',\n",
       " 'born',\n",
       " 'bound',\n",
       " 'bovine',\n",
       " 'bowel',\n",
       " 'boys',\n",
       " 'bp',\n",
       " 'br',\n",
       " 'brain',\n",
       " 'brazil',\n",
       " 'breast',\n",
       " 'brief',\n",
       " 'broad',\n",
       " 'buffer',\n",
       " 'building',\n",
       " 'burden',\n",
       " 'business',\n",
       " 'bypass',\n",
       " 'c',\n",
       " 'c .',\n",
       " 'ca',\n",
       " 'ca2+',\n",
       " 'calcium',\n",
       " 'calculated',\n",
       " 'calculations',\n",
       " 'called',\n",
       " 'camp',\n",
       " 'cancer',\n",
       " 'cancers',\n",
       " 'candidate',\n",
       " 'capable',\n",
       " 'capacity',\n",
       " 'capillary',\n",
       " 'carbohydrate',\n",
       " 'carbon',\n",
       " 'carcinoma',\n",
       " 'carcinomas',\n",
       " 'cardiac',\n",
       " 'cardiovascular',\n",
       " 'care',\n",
       " 'career',\n",
       " 'carotid',\n",
       " 'carried',\n",
       " 'carrier',\n",
       " 'carrying',\n",
       " 'cartilage',\n",
       " 'case',\n",
       " 'cases',\n",
       " 'catalytic',\n",
       " 'categories',\n",
       " 'catheter',\n",
       " 'cats',\n",
       " 'cattle',\n",
       " 'cause',\n",
       " 'caused',\n",
       " 'causes',\n",
       " 'causing',\n",
       " 'cavity',\n",
       " 'cc',\n",
       " 'cd',\n",
       " 'cd4',\n",
       " 'cd4+',\n",
       " 'cdna',\n",
       " 'cell',\n",
       " 'cells',\n",
       " 'cellular',\n",
       " 'cent',\n",
       " 'center',\n",
       " 'centers',\n",
       " 'central',\n",
       " 'centre',\n",
       " 'cerebral',\n",
       " 'cerevisiae',\n",
       " 'certain',\n",
       " 'cervical',\n",
       " 'cf',\n",
       " 'chain',\n",
       " 'chains',\n",
       " 'challenge',\n",
       " 'challenges',\n",
       " 'challenging',\n",
       " 'chamber',\n",
       " 'change',\n",
       " 'changed',\n",
       " 'changes',\n",
       " 'changing',\n",
       " 'channel',\n",
       " 'channels',\n",
       " 'chapter',\n",
       " 'characteristic',\n",
       " 'characteristics',\n",
       " 'characterization',\n",
       " 'characterize',\n",
       " 'characterized',\n",
       " 'charge',\n",
       " 'chemical',\n",
       " 'chemistry',\n",
       " 'chemotherapy',\n",
       " 'chest',\n",
       " 'child',\n",
       " 'childhood',\n",
       " 'children',\n",
       " 'china',\n",
       " 'chinese',\n",
       " 'chloride',\n",
       " 'choice',\n",
       " 'cholesterol',\n",
       " 'chromatin',\n",
       " 'chromatography',\n",
       " 'chromosomal',\n",
       " 'chromosome',\n",
       " 'chromosomes',\n",
       " 'chronic',\n",
       " 'ci',\n",
       " 'circular',\n",
       " 'circulating',\n",
       " 'circulation',\n",
       " 'cirrhosis',\n",
       " 'city',\n",
       " 'ckd',\n",
       " 'cl',\n",
       " 'clarify',\n",
       " 'class',\n",
       " 'classes',\n",
       " 'classical',\n",
       " 'classification',\n",
       " 'classified',\n",
       " 'classroom',\n",
       " 'clear',\n",
       " 'clearance',\n",
       " 'clearly',\n",
       " 'cleavage',\n",
       " 'climate',\n",
       " 'clinic',\n",
       " 'clinical',\n",
       " 'clinically',\n",
       " 'clinicians',\n",
       " 'clone',\n",
       " 'cloned',\n",
       " 'clones',\n",
       " 'close',\n",
       " 'closed',\n",
       " 'closely',\n",
       " 'closure',\n",
       " 'cluster',\n",
       " 'clustering',\n",
       " 'clusters',\n",
       " 'cm',\n",
       " 'cns',\n",
       " 'co2',\n",
       " 'coagulation',\n",
       " 'coding',\n",
       " 'coefficient',\n",
       " 'coefficients',\n",
       " 'cognitive',\n",
       " 'cohort',\n",
       " 'cold',\n",
       " 'coli',\n",
       " 'collagen',\n",
       " 'collected',\n",
       " 'collection',\n",
       " 'college',\n",
       " 'colon',\n",
       " 'colonization',\n",
       " 'color',\n",
       " 'colorectal',\n",
       " 'column',\n",
       " 'com',\n",
       " 'combination',\n",
       " 'combinations',\n",
       " 'combined',\n",
       " 'combining',\n",
       " 'commercial',\n",
       " 'common',\n",
       " 'commonly',\n",
       " 'communication',\n",
       " 'communities',\n",
       " 'community',\n",
       " 'como',\n",
       " 'comparable',\n",
       " 'comparative',\n",
       " 'compare',\n",
       " 'compared',\n",
       " 'comparing',\n",
       " 'comparison',\n",
       " 'comparisons',\n",
       " 'competitive',\n",
       " 'complement',\n",
       " 'complementary',\n",
       " 'complete',\n",
       " 'completed',\n",
       " 'completely',\n",
       " 'complex',\n",
       " 'complexes',\n",
       " 'complexity',\n",
       " 'compliance',\n",
       " 'complicated',\n",
       " 'complication',\n",
       " 'complications',\n",
       " 'component',\n",
       " 'components',\n",
       " 'composed',\n",
       " 'composite',\n",
       " 'composition',\n",
       " 'compound',\n",
       " 'compounds',\n",
       " 'comprehensive',\n",
       " 'compression',\n",
       " 'comprised',\n",
       " 'computational',\n",
       " 'computed',\n",
       " 'computer',\n",
       " 'concentration',\n",
       " 'concentrations',\n",
       " 'concept',\n",
       " 'concepts',\n",
       " 'concern',\n",
       " 'concerning',\n",
       " 'concerns',\n",
       " 'conclude',\n",
       " 'concluded',\n",
       " 'conclusion',\n",
       " 'conclusions',\n",
       " 'concomitant',\n",
       " 'condition',\n",
       " 'conditions',\n",
       " 'conducted',\n",
       " 'confidence',\n",
       " 'confirm',\n",
       " 'confirmed',\n",
       " 'conformational',\n",
       " 'congenital',\n",
       " 'consecutive',\n",
       " 'consensus',\n",
       " 'consequence',\n",
       " 'consequences',\n",
       " 'consequently',\n",
       " 'conserved',\n",
       " 'consider',\n",
       " 'considerable',\n",
       " 'considerably',\n",
       " 'consideration',\n",
       " 'considered',\n",
       " 'considering',\n",
       " 'consisted',\n",
       " 'consistent',\n",
       " 'consistently',\n",
       " 'consisting',\n",
       " 'consists',\n",
       " 'constant',\n",
       " 'construct',\n",
       " 'constructed',\n",
       " 'construction',\n",
       " 'consumption',\n",
       " 'contact',\n",
       " 'contain',\n",
       " 'contained',\n",
       " 'containing',\n",
       " 'contains',\n",
       " 'contamination',\n",
       " 'content',\n",
       " 'contents',\n",
       " 'context',\n",
       " 'continue',\n",
       " 'continued',\n",
       " 'continuous',\n",
       " 'contraction',\n",
       " 'contrast',\n",
       " 'contribute',\n",
       " 'contributed',\n",
       " 'contributes',\n",
       " 'contribution',\n",
       " 'contributions',\n",
       " 'control',\n",
       " 'controlled',\n",
       " 'controlling',\n",
       " 'controls',\n",
       " 'controversial',\n",
       " 'conventional',\n",
       " 'conversion',\n",
       " 'cooperative',\n",
       " 'coordination',\n",
       " 'copd',\n",
       " 'cord',\n",
       " 'core',\n",
       " 'corneal',\n",
       " 'coronary',\n",
       " 'correct',\n",
       " 'correction',\n",
       " 'correlate',\n",
       " 'correlated',\n",
       " 'correlates',\n",
       " 'correlation',\n",
       " 'correlations',\n",
       " 'corresponding',\n",
       " 'cortex',\n",
       " 'cortical',\n",
       " 'cost',\n",
       " 'costs',\n",
       " 'counseling',\n",
       " 'count',\n",
       " 'countries',\n",
       " 'country',\n",
       " 'counts',\n",
       " 'coupled',\n",
       " 'coupling',\n",
       " 'course',\n",
       " 'courses',\n",
       " 'coverage',\n",
       " 'covered',\n",
       " 'cows',\n",
       " 'cp',\n",
       " 'cr',\n",
       " 'crc',\n",
       " 'create',\n",
       " 'created',\n",
       " 'creatinine',\n",
       " 'criteria',\n",
       " 'critical',\n",
       " 'critically',\n",
       " 'cross',\n",
       " 'cross-sectional',\n",
       " 'crucial',\n",
       " 'crystal',\n",
       " 'cs',\n",
       " 'csf',\n",
       " 'ct',\n",
       " 'cu',\n",
       " 'cues',\n",
       " 'cultural',\n",
       " 'culture',\n",
       " 'cultured',\n",
       " 'cultures',\n",
       " 'cumulative',\n",
       " 'current',\n",
       " 'currently',\n",
       " 'curriculum',\n",
       " 'curve',\n",
       " 'curves',\n",
       " 'cutaneous',\n",
       " 'cycle',\n",
       " 'cycles',\n",
       " 'cyclic',\n",
       " 'cyst',\n",
       " 'cystic',\n",
       " 'cysts',\n",
       " 'cytochrome',\n",
       " 'cytokine',\n",
       " 'cytokines',\n",
       " 'cytometry',\n",
       " 'cytoplasmic',\n",
       " 'cytotoxic',\n",
       " 'cytotoxicity',\n",
       " 'd',\n",
       " 'd .',\n",
       " 'da',\n",
       " 'daily',\n",
       " 'damage',\n",
       " 'das',\n",
       " 'data',\n",
       " 'database',\n",
       " 'databases',\n",
       " 'date',\n",
       " 'day',\n",
       " 'days',\n",
       " 'dc',\n",
       " 'death',\n",
       " 'deaths',\n",
       " 'decade',\n",
       " 'december',\n",
       " 'decision',\n",
       " 'decision-making',\n",
       " 'decisions',\n",
       " 'decline',\n",
       " 'decrease',\n",
       " 'decreased',\n",
       " 'decreases',\n",
       " 'decreasing',\n",
       " 'deep',\n",
       " 'defect',\n",
       " 'defects',\n",
       " 'deficiency',\n",
       " 'deficits',\n",
       " 'define',\n",
       " 'defined',\n",
       " 'definition',\n",
       " 'degeneration',\n",
       " 'degradation',\n",
       " 'degree',\n",
       " 'degrees',\n",
       " 'dehydrogenase',\n",
       " 'del',\n",
       " 'delay',\n",
       " 'delayed',\n",
       " 'deletion',\n",
       " 'delivered',\n",
       " 'delivery',\n",
       " 'delta',\n",
       " 'dementia',\n",
       " 'demographic',\n",
       " 'demonstrate',\n",
       " 'demonstrated',\n",
       " 'demonstrates',\n",
       " 'demonstrating',\n",
       " 'dendritic',\n",
       " 'density',\n",
       " 'dental',\n",
       " 'department',\n",
       " 'dependence',\n",
       " 'dependent',\n",
       " 'depending',\n",
       " 'depends',\n",
       " 'depletion',\n",
       " 'deposition',\n",
       " 'depression',\n",
       " 'depressive',\n",
       " 'deprivation',\n",
       " 'depth',\n",
       " 'der',\n",
       " 'derivatives',\n",
       " 'derived',\n",
       " 'des',\n",
       " 'described',\n",
       " 'describes',\n",
       " 'description',\n",
       " 'descriptive',\n",
       " 'design',\n",
       " 'designed',\n",
       " 'despite',\n",
       " 'detailed',\n",
       " 'detect',\n",
       " 'detectable',\n",
       " 'detected',\n",
       " 'detecting',\n",
       " 'detection',\n",
       " 'determinants',\n",
       " 'determination',\n",
       " 'determine',\n",
       " 'determined',\n",
       " 'determining',\n",
       " 'develop',\n",
       " 'developed',\n",
       " 'developing',\n",
       " 'development',\n",
       " 'developmental',\n",
       " 'deviation',\n",
       " 'device',\n",
       " 'devices',\n",
       " 'diabetes',\n",
       " 'diabetic',\n",
       " 'diagnosed',\n",
       " 'diagnoses',\n",
       " 'diagnosis',\n",
       " 'diagnostic',\n",
       " 'dialysis',\n",
       " 'diameter',\n",
       " 'diastolic',\n",
       " 'did',\n",
       " 'die',\n",
       " 'died',\n",
       " 'diet',\n",
       " 'dietary',\n",
       " 'diets',\n",
       " 'differ',\n",
       " 'differed',\n",
       " 'difference',\n",
       " 'differences',\n",
       " 'different',\n",
       " 'differential',\n",
       " 'differentially',\n",
       " 'differentiated',\n",
       " 'differentiation',\n",
       " 'difficult',\n",
       " 'difficulties',\n",
       " 'diffuse',\n",
       " 'diffusion',\n",
       " 'digital',\n",
       " 'dimensions',\n",
       " 'diminished',\n",
       " 'direct',\n",
       " 'directed',\n",
       " 'direction',\n",
       " 'directly',\n",
       " 'disability',\n",
       " 'disc',\n",
       " 'discharge',\n",
       " 'discovery',\n",
       " 'discrimination',\n",
       " 'discuss',\n",
       " 'discussed',\n",
       " 'discusses',\n",
       " 'discussion',\n",
       " 'disease',\n",
       " 'diseases',\n",
       " 'disorder',\n",
       " 'disorders',\n",
       " 'display',\n",
       " 'displayed',\n",
       " 'disruption',\n",
       " 'dissection',\n",
       " 'dissociation',\n",
       " 'distal',\n",
       " 'distance',\n",
       " 'distant',\n",
       " 'distinct',\n",
       " 'distress',\n",
       " 'distributed',\n",
       " 'distribution',\n",
       " 'distributions',\n",
       " 'district',\n",
       " 'disturbances',\n",
       " 'diverse',\n",
       " 'diversity',\n",
       " 'divided',\n",
       " 'division',\n",
       " 'dna',\n",
       " 'documented',\n",
       " 'does',\n",
       " 'dog',\n",
       " 'dogs',\n",
       " 'domain',\n",
       " 'domains',\n",
       " 'domestic',\n",
       " 'dominant',\n",
       " 'donor',\n",
       " ...]"
      ]
     },
     "execution_count": 23,
     "metadata": {},
     "output_type": "execute_result"
    }
   ],
   "source": [
    "vect.get_feature_names()"
   ]
  },
  {
   "cell_type": "code",
   "execution_count": 34,
   "metadata": {},
   "outputs": [
    {
     "data": {
      "text/plain": [
       "<3635066x249 sparse matrix of type '<class 'numpy.int64'>'\n",
       "\twith 935290 stored elements in Compressed Sparse Row format>"
      ]
     },
     "execution_count": 34,
     "metadata": {},
     "output_type": "execute_result"
    }
   ],
   "source": [
    "train_vectors = vect.transform(X_train)\n",
    "train_vectors"
   ]
  },
  {
   "cell_type": "code",
   "execution_count": 35,
   "metadata": {},
   "outputs": [
    {
     "data": {
      "text/plain": [
       "<908767x249 sparse matrix of type '<class 'numpy.int64'>'\n",
       "\twith 234353 stored elements in Compressed Sparse Row format>"
      ]
     },
     "execution_count": 35,
     "metadata": {},
     "output_type": "execute_result"
    }
   ],
   "source": [
    "test_vectors = vect.transform(X_test)\n",
    "test_vectors"
   ]
  },
  {
   "cell_type": "code",
   "execution_count": 36,
   "metadata": {},
   "outputs": [
    {
     "data": {
      "text/html": [
       "<div>\n",
       "<style scoped>\n",
       "    .dataframe tbody tr th:only-of-type {\n",
       "        vertical-align: middle;\n",
       "    }\n",
       "\n",
       "    .dataframe tbody tr th {\n",
       "        vertical-align: top;\n",
       "    }\n",
       "\n",
       "    .dataframe thead th {\n",
       "        text-align: right;\n",
       "    }\n",
       "</style>\n",
       "<table border=\"1\" class=\"dataframe\">\n",
       "  <thead>\n",
       "    <tr style=\"text-align: right;\">\n",
       "      <th></th>\n",
       "      <th>%</th>\n",
       "      <th>&amp;</th>\n",
       "      <th>'</th>\n",
       "      <th>''</th>\n",
       "      <th>'s</th>\n",
       "      <th>(</th>\n",
       "      <th>)</th>\n",
       "      <th>+/-</th>\n",
       "      <th>,</th>\n",
       "      <th>.</th>\n",
       "      <th>...</th>\n",
       "      <th>used</th>\n",
       "      <th>using</th>\n",
       "      <th>values</th>\n",
       "      <th>various</th>\n",
       "      <th>vitro</th>\n",
       "      <th>vs</th>\n",
       "      <th>water</th>\n",
       "      <th>women</th>\n",
       "      <th>work</th>\n",
       "      <th>years</th>\n",
       "    </tr>\n",
       "  </thead>\n",
       "  <tbody>\n",
       "    <tr>\n",
       "      <th>0</th>\n",
       "      <td>0</td>\n",
       "      <td>0</td>\n",
       "      <td>0</td>\n",
       "      <td>0</td>\n",
       "      <td>0</td>\n",
       "      <td>0</td>\n",
       "      <td>0</td>\n",
       "      <td>0</td>\n",
       "      <td>0</td>\n",
       "      <td>0</td>\n",
       "      <td>...</td>\n",
       "      <td>0</td>\n",
       "      <td>0</td>\n",
       "      <td>0</td>\n",
       "      <td>0</td>\n",
       "      <td>0</td>\n",
       "      <td>0</td>\n",
       "      <td>0</td>\n",
       "      <td>0</td>\n",
       "      <td>0</td>\n",
       "      <td>0</td>\n",
       "    </tr>\n",
       "    <tr>\n",
       "      <th>1</th>\n",
       "      <td>0</td>\n",
       "      <td>0</td>\n",
       "      <td>0</td>\n",
       "      <td>0</td>\n",
       "      <td>0</td>\n",
       "      <td>0</td>\n",
       "      <td>0</td>\n",
       "      <td>0</td>\n",
       "      <td>0</td>\n",
       "      <td>0</td>\n",
       "      <td>...</td>\n",
       "      <td>0</td>\n",
       "      <td>0</td>\n",
       "      <td>0</td>\n",
       "      <td>0</td>\n",
       "      <td>0</td>\n",
       "      <td>0</td>\n",
       "      <td>0</td>\n",
       "      <td>0</td>\n",
       "      <td>0</td>\n",
       "      <td>0</td>\n",
       "    </tr>\n",
       "    <tr>\n",
       "      <th>2</th>\n",
       "      <td>0</td>\n",
       "      <td>0</td>\n",
       "      <td>0</td>\n",
       "      <td>0</td>\n",
       "      <td>0</td>\n",
       "      <td>0</td>\n",
       "      <td>0</td>\n",
       "      <td>0</td>\n",
       "      <td>0</td>\n",
       "      <td>0</td>\n",
       "      <td>...</td>\n",
       "      <td>0</td>\n",
       "      <td>0</td>\n",
       "      <td>0</td>\n",
       "      <td>0</td>\n",
       "      <td>0</td>\n",
       "      <td>0</td>\n",
       "      <td>0</td>\n",
       "      <td>0</td>\n",
       "      <td>0</td>\n",
       "      <td>0</td>\n",
       "    </tr>\n",
       "    <tr>\n",
       "      <th>3</th>\n",
       "      <td>0</td>\n",
       "      <td>0</td>\n",
       "      <td>0</td>\n",
       "      <td>0</td>\n",
       "      <td>0</td>\n",
       "      <td>0</td>\n",
       "      <td>0</td>\n",
       "      <td>0</td>\n",
       "      <td>0</td>\n",
       "      <td>0</td>\n",
       "      <td>...</td>\n",
       "      <td>0</td>\n",
       "      <td>0</td>\n",
       "      <td>0</td>\n",
       "      <td>0</td>\n",
       "      <td>0</td>\n",
       "      <td>0</td>\n",
       "      <td>0</td>\n",
       "      <td>0</td>\n",
       "      <td>0</td>\n",
       "      <td>0</td>\n",
       "    </tr>\n",
       "  </tbody>\n",
       "</table>\n",
       "<p>4 rows × 249 columns</p>\n",
       "</div>"
      ],
      "text/plain": [
       "   %  &  '  ''  's  (  )  +/-  ,  .  ...    used  using  values  various  \\\n",
       "0  0  0  0   0   0  0  0    0  0  0  ...       0      0       0        0   \n",
       "1  0  0  0   0   0  0  0    0  0  0  ...       0      0       0        0   \n",
       "2  0  0  0   0   0  0  0    0  0  0  ...       0      0       0        0   \n",
       "3  0  0  0   0   0  0  0    0  0  0  ...       0      0       0        0   \n",
       "\n",
       "   vitro  vs  water  women  work  years  \n",
       "0      0   0      0      0     0      0  \n",
       "1      0   0      0      0     0      0  \n",
       "2      0   0      0      0     0      0  \n",
       "3      0   0      0      0     0      0  \n",
       "\n",
       "[4 rows x 249 columns]"
      ]
     },
     "execution_count": 36,
     "metadata": {},
     "output_type": "execute_result"
    }
   ],
   "source": [
    "pd.DataFrame(train_vectors.toarray(), columns=vect.get_feature_names()).head(4)"
   ]
  },
  {
   "cell_type": "code",
   "execution_count": 37,
   "metadata": {},
   "outputs": [],
   "source": [
    "from sklearn.naive_bayes import GaussianNB, MultinomialNB, BernoulliNB\n",
    "nb = GaussianNB()"
   ]
  },
  {
   "cell_type": "code",
   "execution_count": 38,
   "metadata": {},
   "outputs": [
    {
     "data": {
      "text/plain": [
       "GaussianNB(priors=None, var_smoothing=1e-09)"
      ]
     },
     "execution_count": 38,
     "metadata": {},
     "output_type": "execute_result"
    }
   ],
   "source": [
    "nb.fit(train_vectors.toarray(), y_train)"
   ]
  },
  {
   "cell_type": "code",
   "execution_count": 31,
   "metadata": {},
   "outputs": [],
   "source": [
    "from sklearn.naive_bayes import GaussianNB, MultinomialNB, BernoulliNB\n",
    "nb = GaussianNB()"
   ]
  },
  {
   "cell_type": "code",
   "execution_count": 39,
   "metadata": {},
   "outputs": [
    {
     "name": "stdout",
     "output_type": "stream",
     "text": [
      "               precision    recall  f1-score   support\n",
      "\n",
      "B-indications       0.01      0.99      0.03     10616\n",
      "I-indications       0.02      0.23      0.04      9066\n",
      "            O       1.00      0.10      0.19    889085\n",
      "\n",
      "    micro avg       0.11      0.11      0.11    908767\n",
      "    macro avg       0.35      0.44      0.09    908767\n",
      " weighted avg       0.98      0.11      0.18    908767\n",
      "\n",
      "ACCURACY:: 0.11443967485615125\n"
     ]
    }
   ],
   "source": [
    "from sklearn.metrics.classification import classification_report, accuracy_score\n",
    "from sklearn.model_selection import cross_val_predict\n",
    "\n",
    "# generate your cross-validation prediction with 10 fold Stratified sampling\n",
    "y_pred = cross_val_predict(nb, test_vectors.toarray(), y_test, cv=10)\n",
    "\n",
    "print(classification_report(y_test, y_pred))\n",
    "print(\"ACCURACY::\", accuracy_score(y_pred, y_test))"
   ]
  },
  {
   "cell_type": "code",
   "execution_count": 2,
   "metadata": {},
   "outputs": [],
   "source": [
    "\n",
    "import dill\n",
    "dill.load_session('notebook_env.db')"
   ]
  },
  {
   "cell_type": "code",
   "execution_count": 62,
   "metadata": {},
   "outputs": [],
   "source": [
    "from sklearn.feature_extraction.text import CountVectorizer\n",
    "# Fit the CountVectorizer to the training data\n",
    "vec = CountVectorizer().fit(X_train)"
   ]
  },
  {
   "cell_type": "code",
   "execution_count": 63,
   "metadata": {},
   "outputs": [],
   "source": [
    "# transform the documents in the training data to a document-term matrix\n",
    "X_train_vectorized = vec.transform(X_train)"
   ]
  },
  {
   "cell_type": "code",
   "execution_count": 64,
   "metadata": {},
   "outputs": [
    {
     "data": {
      "text/plain": [
       "<3635066x95442 sparse matrix of type '<class 'numpy.int64'>'\n",
       "\twith 3114159 stored elements in Compressed Sparse Row format>"
      ]
     },
     "execution_count": 64,
     "metadata": {},
     "output_type": "execute_result"
    }
   ],
   "source": [
    "X_train_vectorized"
   ]
  },
  {
   "cell_type": "code",
   "execution_count": 5,
   "metadata": {},
   "outputs": [
    {
     "data": {
      "text/plain": [
       "<908767x95442 sparse matrix of type '<class 'numpy.int64'>'\n",
       "\twith 776788 stored elements in Compressed Sparse Row format>"
      ]
     },
     "execution_count": 5,
     "metadata": {},
     "output_type": "execute_result"
    }
   ],
   "source": [
    "vec.transform(X_test)"
   ]
  },
  {
   "cell_type": "code",
   "execution_count": 17,
   "metadata": {},
   "outputs": [
    {
     "data": {
      "text/plain": [
       "LogisticRegression(C=1.0, class_weight=None, dual=False, fit_intercept=True,\n",
       "          intercept_scaling=1, max_iter=100, multi_class='multinomial',\n",
       "          n_jobs=None, penalty='l2', random_state=None, solver='newton-cg',\n",
       "          tol=0.0001, verbose=0, warm_start=False)"
      ]
     },
     "execution_count": 17,
     "metadata": {},
     "output_type": "execute_result"
    }
   ],
   "source": [
    "from sklearn.linear_model import LogisticRegression,SGDClassifier\n",
    "model = LogisticRegression(multi_class='multinomial', solver='newton-cg')\n",
    "model.fit(X_train_vectorized, y_train)"
   ]
  },
  {
   "cell_type": "code",
   "execution_count": 6,
   "metadata": {},
   "outputs": [],
   "source": [
    "from sklearn.metrics.classification import classification_report, accuracy_score\n",
    "from sklearn.model_selection import cross_val_predict\n",
    "predictions = model.predict(vec.transform(X_test))\n",
    "# generate your cross-validation prediction with 10 fold Stratified sampling\n"
   ]
  },
  {
   "cell_type": "code",
   "execution_count": 7,
   "metadata": {},
   "outputs": [
    {
     "data": {
      "text/plain": [
       "array(['O', 'O', 'O', ..., 'O', 'O', 'O'], dtype=object)"
      ]
     },
     "execution_count": 7,
     "metadata": {},
     "output_type": "execute_result"
    }
   ],
   "source": [
    "predictions"
   ]
  },
  {
   "cell_type": "code",
   "execution_count": 8,
   "metadata": {},
   "outputs": [
    {
     "name": "stdout",
     "output_type": "stream",
     "text": [
      "               precision    recall  f1-score   support\n",
      "\n",
      "B-indications       0.78      0.37      0.51     10547\n",
      "I-indications       0.61      0.37      0.46      8791\n",
      "            O       0.99      1.00      0.99    889429\n",
      "\n",
      "    micro avg       0.98      0.98      0.98    908767\n",
      "    macro avg       0.79      0.58      0.65    908767\n",
      " weighted avg       0.98      0.98      0.98    908767\n",
      "\n",
      "ACCURACY:: 0.9842533894826727\n"
     ]
    }
   ],
   "source": [
    "#y_pred = cross_val_predict(model, test_vectors.toarray(), y_test, cv=10)\n",
    "\n",
    "print(classification_report(y_test, predictions))\n",
    "print(\"ACCURACY::\", accuracy_score(predictions, y_test))"
   ]
  },
  {
   "cell_type": "code",
   "execution_count": 19,
   "metadata": {},
   "outputs": [],
   "source": [
    "test=pd.read_csv('test.csv')"
   ]
  },
  {
   "cell_type": "code",
   "execution_count": 20,
   "metadata": {},
   "outputs": [
    {
     "name": "stdout",
     "output_type": "stream",
     "text": [
      "<class 'pandas.core.frame.DataFrame'>\n",
      "RangeIndex: 2994463 entries, 0 to 2994462\n",
      "Data columns (total 4 columns):\n",
      "id         int64\n",
      "Doc_ID     int64\n",
      "Sent_ID    int64\n",
      "Word       object\n",
      "dtypes: int64(3), object(1)\n",
      "memory usage: 91.4+ MB\n"
     ]
    }
   ],
   "source": [
    "test.info()"
   ]
  },
  {
   "cell_type": "code",
   "execution_count": 21,
   "metadata": {},
   "outputs": [
    {
     "data": {
      "text/html": [
       "<div>\n",
       "<style scoped>\n",
       "    .dataframe tbody tr th:only-of-type {\n",
       "        vertical-align: middle;\n",
       "    }\n",
       "\n",
       "    .dataframe tbody tr th {\n",
       "        vertical-align: top;\n",
       "    }\n",
       "\n",
       "    .dataframe thead th {\n",
       "        text-align: right;\n",
       "    }\n",
       "</style>\n",
       "<table border=\"1\" class=\"dataframe\">\n",
       "  <thead>\n",
       "    <tr style=\"text-align: right;\">\n",
       "      <th></th>\n",
       "      <th>id</th>\n",
       "      <th>Doc_ID</th>\n",
       "      <th>Sent_ID</th>\n",
       "      <th>Word</th>\n",
       "    </tr>\n",
       "  </thead>\n",
       "  <tbody>\n",
       "    <tr>\n",
       "      <th>0</th>\n",
       "      <td>4543834</td>\n",
       "      <td>30001</td>\n",
       "      <td>191283</td>\n",
       "      <td>CCCVA</td>\n",
       "    </tr>\n",
       "    <tr>\n",
       "      <th>1</th>\n",
       "      <td>4543835</td>\n",
       "      <td>30001</td>\n",
       "      <td>191283</td>\n",
       "      <td>,</td>\n",
       "    </tr>\n",
       "    <tr>\n",
       "      <th>2</th>\n",
       "      <td>4543836</td>\n",
       "      <td>30001</td>\n",
       "      <td>191283</td>\n",
       "      <td>MANOVA</td>\n",
       "    </tr>\n",
       "    <tr>\n",
       "      <th>3</th>\n",
       "      <td>4543837</td>\n",
       "      <td>30001</td>\n",
       "      <td>191283</td>\n",
       "      <td>,</td>\n",
       "    </tr>\n",
       "    <tr>\n",
       "      <th>4</th>\n",
       "      <td>4543838</td>\n",
       "      <td>30001</td>\n",
       "      <td>191283</td>\n",
       "      <td>my</td>\n",
       "    </tr>\n",
       "  </tbody>\n",
       "</table>\n",
       "</div>"
      ],
      "text/plain": [
       "        id  Doc_ID  Sent_ID    Word\n",
       "0  4543834   30001   191283   CCCVA\n",
       "1  4543835   30001   191283       ,\n",
       "2  4543836   30001   191283  MANOVA\n",
       "3  4543837   30001   191283       ,\n",
       "4  4543838   30001   191283      my"
      ]
     },
     "execution_count": 21,
     "metadata": {},
     "output_type": "execute_result"
    }
   ],
   "source": [
    "test.head()"
   ]
  },
  {
   "cell_type": "code",
   "execution_count": 22,
   "metadata": {},
   "outputs": [
    {
     "data": {
      "text/plain": [
       "['Word']"
      ]
     },
     "execution_count": 22,
     "metadata": {},
     "output_type": "execute_result"
    }
   ],
   "source": [
    "test.columns[test.isna().any()].tolist()"
   ]
  },
  {
   "cell_type": "code",
   "execution_count": 23,
   "metadata": {},
   "outputs": [],
   "source": [
    "test['Word'] = test['Word'].fillna(test['Word'].mode()[0])"
   ]
  },
  {
   "cell_type": "code",
   "execution_count": 24,
   "metadata": {},
   "outputs": [],
   "source": [
    "df_test=test.copy()"
   ]
  },
  {
   "cell_type": "code",
   "execution_count": 25,
   "metadata": {},
   "outputs": [],
   "source": [
    "tes=test['Word']"
   ]
  },
  {
   "cell_type": "code",
   "execution_count": 37,
   "metadata": {},
   "outputs": [],
   "source": [
    "X_test.drop(['id','Doc_ID','Sent_ID'],axis=1,inplace=True)"
   ]
  },
  {
   "cell_type": "code",
   "execution_count": 42,
   "metadata": {},
   "outputs": [
    {
     "name": "stdout",
     "output_type": "stream",
     "text": [
      "<class 'pandas.core.frame.DataFrame'>\n",
      "RangeIndex: 2994463 entries, 0 to 2994462\n",
      "Data columns (total 1 columns):\n",
      "Word    object\n",
      "dtypes: object(1)\n",
      "memory usage: 22.8+ MB\n"
     ]
    }
   ],
   "source": [
    "X_test.info()"
   ]
  },
  {
   "cell_type": "code",
   "execution_count": 48,
   "metadata": {},
   "outputs": [
    {
     "data": {
      "text/plain": [
       "0                                              CCCVA\n",
       "1                                                  ,\n",
       "2                                             MANOVA\n",
       "3                                                  ,\n",
       "4                                                 my\n",
       "5                                              black\n",
       "6                                                hen\n",
       "7                                                  .\n",
       "8                                           Comments\n",
       "9                                                 on\n",
       "10                                          repeated\n",
       "11                                          measures\n",
       "12                                                 .\n",
       "13                                          Nikolsky\n",
       "14                                              sign\n",
       "15                                                 ;\n",
       "16                                              page\n",
       "17                                              from\n",
       "18                                           notable\n",
       "19                                      contributors\n",
       "20                                                to\n",
       "21                                               the\n",
       "22                                         knowledge\n",
       "23                                                of\n",
       "24                                       dermatology\n",
       "25                                                 .\n",
       "26                                                 [\n",
       "27                                           Obesity\n",
       "28                                                as\n",
       "29                                                 a\n",
       "                             ...                    \n",
       "2994433                                        href=\n",
       "2994434                                           ''\n",
       "2994435                                         http\n",
       "2994436                                            :\n",
       "2994437                   //www.mendeley.com/import/\n",
       "2994438                                            ?\n",
       "2994439                                     url=http\n",
       "2994440                                            :\n",
       "2994441    //dx.doi.org/10.9767/bcrec.8.1.4394.14-33\n",
       "2994442                                           ''\n",
       "2994443                                            >\n",
       "2994444                                            <\n",
       "2994445                                          img\n",
       "2994446                                         src=\n",
       "2994447                                           ''\n",
       "2994448                                         http\n",
       "2994449                                            :\n",
       "2994450     //www.mendeley.com/graphics/mendeley.png\n",
       "2994451                                           ''\n",
       "2994452                                         alt=\n",
       "2994453                                           ''\n",
       "2994454                                           ''\n",
       "2994455                                            /\n",
       "2994456                                            >\n",
       "2994457                                            <\n",
       "2994458                                           /a\n",
       "2994459                                            >\n",
       "2994460                                            <\n",
       "2994461                                           /p\n",
       "2994462                                            >\n",
       "Name: Word, Length: 2994463, dtype: object"
      ]
     },
     "execution_count": 48,
     "metadata": {},
     "output_type": "execute_result"
    }
   ],
   "source": [
    "X_test['Word']"
   ]
  },
  {
   "cell_type": "code",
   "execution_count": 26,
   "metadata": {},
   "outputs": [],
   "source": [
    "test_vectors = vec.transform(tes)"
   ]
  },
  {
   "cell_type": "code",
   "execution_count": 27,
   "metadata": {},
   "outputs": [
    {
     "data": {
      "text/plain": [
       "<2994463x95442 sparse matrix of type '<class 'numpy.int64'>'\n",
       "\twith 2501298 stored elements in Compressed Sparse Row format>"
      ]
     },
     "execution_count": 27,
     "metadata": {},
     "output_type": "execute_result"
    }
   ],
   "source": [
    "test_vectors"
   ]
  },
  {
   "cell_type": "code",
   "execution_count": 28,
   "metadata": {},
   "outputs": [],
   "source": [
    "predictions = model.predict(test_vectors)"
   ]
  },
  {
   "cell_type": "code",
   "execution_count": 29,
   "metadata": {},
   "outputs": [
    {
     "data": {
      "text/plain": [
       "array(['I-indications', 'I-indications', 'I-indications', ...,\n",
       "       'I-indications', 'I-indications', 'I-indications'], dtype=object)"
      ]
     },
     "execution_count": 29,
     "metadata": {},
     "output_type": "execute_result"
    }
   ],
   "source": [
    "predictions"
   ]
  },
  {
   "cell_type": "code",
   "execution_count": 30,
   "metadata": {},
   "outputs": [],
   "source": [
    "df_test['tag']=list(predictions)"
   ]
  },
  {
   "cell_type": "code",
   "execution_count": 31,
   "metadata": {},
   "outputs": [],
   "source": [
    "df_sub=df_test[['id','Sent_ID','tag']]"
   ]
  },
  {
   "cell_type": "code",
   "execution_count": 32,
   "metadata": {},
   "outputs": [],
   "source": [
    "df1=pd.read_csv('sample_submission.csv')\n",
    "df1.drop(['tag'],inplace=True,axis=1)\n",
    "df1['tag']=list(predictions)"
   ]
  },
  {
   "cell_type": "code",
   "execution_count": 33,
   "metadata": {},
   "outputs": [
    {
     "data": {
      "text/html": [
       "<div>\n",
       "<style scoped>\n",
       "    .dataframe tbody tr th:only-of-type {\n",
       "        vertical-align: middle;\n",
       "    }\n",
       "\n",
       "    .dataframe tbody tr th {\n",
       "        vertical-align: top;\n",
       "    }\n",
       "\n",
       "    .dataframe thead th {\n",
       "        text-align: right;\n",
       "    }\n",
       "</style>\n",
       "<table border=\"1\" class=\"dataframe\">\n",
       "  <thead>\n",
       "    <tr style=\"text-align: right;\">\n",
       "      <th></th>\n",
       "      <th>id</th>\n",
       "      <th>Sent_ID</th>\n",
       "      <th>tag</th>\n",
       "    </tr>\n",
       "  </thead>\n",
       "  <tbody>\n",
       "    <tr>\n",
       "      <th>0</th>\n",
       "      <td>4543834</td>\n",
       "      <td>191283</td>\n",
       "      <td>I-indications</td>\n",
       "    </tr>\n",
       "    <tr>\n",
       "      <th>1</th>\n",
       "      <td>4543835</td>\n",
       "      <td>191283</td>\n",
       "      <td>I-indications</td>\n",
       "    </tr>\n",
       "    <tr>\n",
       "      <th>2</th>\n",
       "      <td>4543836</td>\n",
       "      <td>191283</td>\n",
       "      <td>I-indications</td>\n",
       "    </tr>\n",
       "    <tr>\n",
       "      <th>3</th>\n",
       "      <td>4543837</td>\n",
       "      <td>191283</td>\n",
       "      <td>I-indications</td>\n",
       "    </tr>\n",
       "    <tr>\n",
       "      <th>4</th>\n",
       "      <td>4543838</td>\n",
       "      <td>191283</td>\n",
       "      <td>I-indications</td>\n",
       "    </tr>\n",
       "  </tbody>\n",
       "</table>\n",
       "</div>"
      ],
      "text/plain": [
       "        id  Sent_ID            tag\n",
       "0  4543834   191283  I-indications\n",
       "1  4543835   191283  I-indications\n",
       "2  4543836   191283  I-indications\n",
       "3  4543837   191283  I-indications\n",
       "4  4543838   191283  I-indications"
      ]
     },
     "execution_count": 33,
     "metadata": {},
     "output_type": "execute_result"
    }
   ],
   "source": [
    "df1.head()"
   ]
  },
  {
   "cell_type": "code",
   "execution_count": 34,
   "metadata": {},
   "outputs": [],
   "source": [
    "df1.to_csv('sample_submission_6.csv',index=False)"
   ]
  },
  {
   "cell_type": "code",
   "execution_count": 28,
   "metadata": {},
   "outputs": [
    {
     "ename": "ValueError",
     "evalue": "Found input variables with inconsistent numbers of samples: [2994463, 908767]",
     "output_type": "error",
     "traceback": [
      "\u001b[1;31m---------------------------------------------------------------------------\u001b[0m",
      "\u001b[1;31mValueError\u001b[0m                                Traceback (most recent call last)",
      "\u001b[1;32m<ipython-input-28-a2f183810ea0>\u001b[0m in \u001b[0;36m<module>\u001b[1;34m()\u001b[0m\n\u001b[1;32m----> 1\u001b[1;33m \u001b[0mprint\u001b[0m\u001b[1;33m(\u001b[0m\u001b[0mclassification_report\u001b[0m\u001b[1;33m(\u001b[0m\u001b[0my_test\u001b[0m\u001b[1;33m,\u001b[0m \u001b[0mpredictions\u001b[0m\u001b[1;33m)\u001b[0m\u001b[1;33m)\u001b[0m\u001b[1;33m\u001b[0m\u001b[0m\n\u001b[0m\u001b[0;32m      2\u001b[0m \u001b[0mprint\u001b[0m\u001b[1;33m(\u001b[0m\u001b[1;34m\"ACCURACY::\"\u001b[0m\u001b[1;33m,\u001b[0m \u001b[0maccuracy_score\u001b[0m\u001b[1;33m(\u001b[0m\u001b[0mpredictions\u001b[0m\u001b[1;33m,\u001b[0m \u001b[0my_test\u001b[0m\u001b[1;33m)\u001b[0m\u001b[1;33m)\u001b[0m\u001b[1;33m\u001b[0m\u001b[0m\n",
      "\u001b[1;32m~\\Anaconda3\\lib\\site-packages\\sklearn\\metrics\\classification.py\u001b[0m in \u001b[0;36mclassification_report\u001b[1;34m(y_true, y_pred, labels, target_names, sample_weight, digits, output_dict)\u001b[0m\n\u001b[0;32m   1522\u001b[0m     \"\"\"\n\u001b[0;32m   1523\u001b[0m \u001b[1;33m\u001b[0m\u001b[0m\n\u001b[1;32m-> 1524\u001b[1;33m     \u001b[0my_type\u001b[0m\u001b[1;33m,\u001b[0m \u001b[0my_true\u001b[0m\u001b[1;33m,\u001b[0m \u001b[0my_pred\u001b[0m \u001b[1;33m=\u001b[0m \u001b[0m_check_targets\u001b[0m\u001b[1;33m(\u001b[0m\u001b[0my_true\u001b[0m\u001b[1;33m,\u001b[0m \u001b[0my_pred\u001b[0m\u001b[1;33m)\u001b[0m\u001b[1;33m\u001b[0m\u001b[0m\n\u001b[0m\u001b[0;32m   1525\u001b[0m \u001b[1;33m\u001b[0m\u001b[0m\n\u001b[0;32m   1526\u001b[0m     \u001b[0mlabels_given\u001b[0m \u001b[1;33m=\u001b[0m \u001b[1;32mTrue\u001b[0m\u001b[1;33m\u001b[0m\u001b[0m\n",
      "\u001b[1;32m~\\Anaconda3\\lib\\site-packages\\sklearn\\metrics\\classification.py\u001b[0m in \u001b[0;36m_check_targets\u001b[1;34m(y_true, y_pred)\u001b[0m\n\u001b[0;32m     69\u001b[0m     \u001b[0my_pred\u001b[0m \u001b[1;33m:\u001b[0m \u001b[0marray\u001b[0m \u001b[1;32mor\u001b[0m \u001b[0mindicator\u001b[0m \u001b[0mmatrix\u001b[0m\u001b[1;33m\u001b[0m\u001b[0m\n\u001b[0;32m     70\u001b[0m     \"\"\"\n\u001b[1;32m---> 71\u001b[1;33m     \u001b[0mcheck_consistent_length\u001b[0m\u001b[1;33m(\u001b[0m\u001b[0my_true\u001b[0m\u001b[1;33m,\u001b[0m \u001b[0my_pred\u001b[0m\u001b[1;33m)\u001b[0m\u001b[1;33m\u001b[0m\u001b[0m\n\u001b[0m\u001b[0;32m     72\u001b[0m     \u001b[0mtype_true\u001b[0m \u001b[1;33m=\u001b[0m \u001b[0mtype_of_target\u001b[0m\u001b[1;33m(\u001b[0m\u001b[0my_true\u001b[0m\u001b[1;33m)\u001b[0m\u001b[1;33m\u001b[0m\u001b[0m\n\u001b[0;32m     73\u001b[0m     \u001b[0mtype_pred\u001b[0m \u001b[1;33m=\u001b[0m \u001b[0mtype_of_target\u001b[0m\u001b[1;33m(\u001b[0m\u001b[0my_pred\u001b[0m\u001b[1;33m)\u001b[0m\u001b[1;33m\u001b[0m\u001b[0m\n",
      "\u001b[1;32m~\\Anaconda3\\lib\\site-packages\\sklearn\\utils\\validation.py\u001b[0m in \u001b[0;36mcheck_consistent_length\u001b[1;34m(*arrays)\u001b[0m\n\u001b[0;32m    233\u001b[0m     \u001b[1;32mif\u001b[0m \u001b[0mlen\u001b[0m\u001b[1;33m(\u001b[0m\u001b[0muniques\u001b[0m\u001b[1;33m)\u001b[0m \u001b[1;33m>\u001b[0m \u001b[1;36m1\u001b[0m\u001b[1;33m:\u001b[0m\u001b[1;33m\u001b[0m\u001b[0m\n\u001b[0;32m    234\u001b[0m         raise ValueError(\"Found input variables with inconsistent numbers of\"\n\u001b[1;32m--> 235\u001b[1;33m                          \" samples: %r\" % [int(l) for l in lengths])\n\u001b[0m\u001b[0;32m    236\u001b[0m \u001b[1;33m\u001b[0m\u001b[0m\n\u001b[0;32m    237\u001b[0m \u001b[1;33m\u001b[0m\u001b[0m\n",
      "\u001b[1;31mValueError\u001b[0m: Found input variables with inconsistent numbers of samples: [2994463, 908767]"
     ]
    }
   ],
   "source": [
    "print(classification_report(y_test, predictions))\n",
    "print(\"ACCURACY::\", accuracy_score(predictions, y_test))"
   ]
  },
  {
   "cell_type": "code",
   "execution_count": 18,
   "metadata": {},
   "outputs": [
    {
     "ename": "ValueError",
     "evalue": "multiclass format is not supported",
     "output_type": "error",
     "traceback": [
      "\u001b[1;31m---------------------------------------------------------------------------\u001b[0m",
      "\u001b[1;31mValueError\u001b[0m                                Traceback (most recent call last)",
      "\u001b[1;32m<ipython-input-18-bc55b9d52cb8>\u001b[0m in \u001b[0;36m<module>\u001b[1;34m()\u001b[0m\n\u001b[0;32m      1\u001b[0m \u001b[1;32mfrom\u001b[0m \u001b[0msklearn\u001b[0m\u001b[1;33m.\u001b[0m\u001b[0mmetrics\u001b[0m \u001b[1;32mimport\u001b[0m \u001b[0mroc_curve\u001b[0m\u001b[1;33m,\u001b[0m \u001b[0mroc_auc_score\u001b[0m\u001b[1;33m,\u001b[0m \u001b[0mauc\u001b[0m\u001b[1;33m\u001b[0m\u001b[0m\n\u001b[0;32m      2\u001b[0m \u001b[0mpredictions\u001b[0m \u001b[1;33m=\u001b[0m \u001b[0mmodel\u001b[0m\u001b[1;33m.\u001b[0m\u001b[0mpredict\u001b[0m\u001b[1;33m(\u001b[0m\u001b[0mvec\u001b[0m\u001b[1;33m.\u001b[0m\u001b[0mtransform\u001b[0m\u001b[1;33m(\u001b[0m\u001b[0mX_test\u001b[0m\u001b[1;33m)\u001b[0m\u001b[1;33m)\u001b[0m\u001b[1;33m\u001b[0m\u001b[0m\n\u001b[1;32m----> 3\u001b[1;33m \u001b[0mprint\u001b[0m\u001b[1;33m(\u001b[0m\u001b[1;34m'AUC: '\u001b[0m\u001b[1;33m,\u001b[0m \u001b[0mroc_auc_score\u001b[0m\u001b[1;33m(\u001b[0m\u001b[0my_test\u001b[0m\u001b[1;33m,\u001b[0m \u001b[0mpredictions\u001b[0m\u001b[1;33m)\u001b[0m\u001b[1;33m)\u001b[0m\u001b[1;33m\u001b[0m\u001b[0m\n\u001b[0m\u001b[0;32m      4\u001b[0m \u001b[0mfalse_positive_rate\u001b[0m\u001b[1;33m,\u001b[0m \u001b[0mtrue_positive_rate\u001b[0m\u001b[1;33m,\u001b[0m \u001b[0mthresholds\u001b[0m \u001b[1;33m=\u001b[0m \u001b[0mroc_curve\u001b[0m\u001b[1;33m(\u001b[0m\u001b[0my_test\u001b[0m\u001b[1;33m,\u001b[0m \u001b[0mpredictions\u001b[0m\u001b[1;33m)\u001b[0m\u001b[1;33m\u001b[0m\u001b[0m\n\u001b[0;32m      5\u001b[0m \u001b[0mroc_auc\u001b[0m \u001b[1;33m=\u001b[0m \u001b[0mauc\u001b[0m\u001b[1;33m(\u001b[0m\u001b[0mfalse_positive_rate\u001b[0m\u001b[1;33m,\u001b[0m \u001b[0mtrue_positive_rate\u001b[0m\u001b[1;33m)\u001b[0m\u001b[1;33m\u001b[0m\u001b[0m\n",
      "\u001b[1;32m~\\Anaconda3\\lib\\site-packages\\sklearn\\metrics\\ranking.py\u001b[0m in \u001b[0;36mroc_auc_score\u001b[1;34m(y_true, y_score, average, sample_weight, max_fpr)\u001b[0m\n\u001b[0;32m    354\u001b[0m     return _average_binary_score(\n\u001b[0;32m    355\u001b[0m         \u001b[0m_binary_roc_auc_score\u001b[0m\u001b[1;33m,\u001b[0m \u001b[0my_true\u001b[0m\u001b[1;33m,\u001b[0m \u001b[0my_score\u001b[0m\u001b[1;33m,\u001b[0m \u001b[0maverage\u001b[0m\u001b[1;33m,\u001b[0m\u001b[1;33m\u001b[0m\u001b[0m\n\u001b[1;32m--> 356\u001b[1;33m         sample_weight=sample_weight)\n\u001b[0m\u001b[0;32m    357\u001b[0m \u001b[1;33m\u001b[0m\u001b[0m\n\u001b[0;32m    358\u001b[0m \u001b[1;33m\u001b[0m\u001b[0m\n",
      "\u001b[1;32m~\\Anaconda3\\lib\\site-packages\\sklearn\\metrics\\base.py\u001b[0m in \u001b[0;36m_average_binary_score\u001b[1;34m(binary_metric, y_true, y_score, average, sample_weight)\u001b[0m\n\u001b[0;32m     72\u001b[0m     \u001b[0my_type\u001b[0m \u001b[1;33m=\u001b[0m \u001b[0mtype_of_target\u001b[0m\u001b[1;33m(\u001b[0m\u001b[0my_true\u001b[0m\u001b[1;33m)\u001b[0m\u001b[1;33m\u001b[0m\u001b[0m\n\u001b[0;32m     73\u001b[0m     \u001b[1;32mif\u001b[0m \u001b[0my_type\u001b[0m \u001b[1;32mnot\u001b[0m \u001b[1;32min\u001b[0m \u001b[1;33m(\u001b[0m\u001b[1;34m\"binary\"\u001b[0m\u001b[1;33m,\u001b[0m \u001b[1;34m\"multilabel-indicator\"\u001b[0m\u001b[1;33m)\u001b[0m\u001b[1;33m:\u001b[0m\u001b[1;33m\u001b[0m\u001b[0m\n\u001b[1;32m---> 74\u001b[1;33m         \u001b[1;32mraise\u001b[0m \u001b[0mValueError\u001b[0m\u001b[1;33m(\u001b[0m\u001b[1;34m\"{0} format is not supported\"\u001b[0m\u001b[1;33m.\u001b[0m\u001b[0mformat\u001b[0m\u001b[1;33m(\u001b[0m\u001b[0my_type\u001b[0m\u001b[1;33m)\u001b[0m\u001b[1;33m)\u001b[0m\u001b[1;33m\u001b[0m\u001b[0m\n\u001b[0m\u001b[0;32m     75\u001b[0m \u001b[1;33m\u001b[0m\u001b[0m\n\u001b[0;32m     76\u001b[0m     \u001b[1;32mif\u001b[0m \u001b[0my_type\u001b[0m \u001b[1;33m==\u001b[0m \u001b[1;34m\"binary\"\u001b[0m\u001b[1;33m:\u001b[0m\u001b[1;33m\u001b[0m\u001b[0m\n",
      "\u001b[1;31mValueError\u001b[0m: multiclass format is not supported"
     ]
    }
   ],
   "source": [
    "from sklearn.metrics import roc_curve, roc_auc_score, auc\n",
    "predictions = model.predict(vec.transform(X_test))\n",
    "print('AUC: ', roc_auc_score(y_test, predictions))\n",
    "false_positive_rate, true_positive_rate, thresholds = roc_curve(y_test, predictions)\n",
    "roc_auc = auc(false_positive_rate, true_positive_rate)"
   ]
  },
  {
   "cell_type": "code",
   "execution_count": 55,
   "metadata": {},
   "outputs": [],
   "source": [
    "import dill\n",
    "dill.dump_session('notebook_env.db')"
   ]
  },
  {
   "cell_type": "code",
   "execution_count": 1,
   "metadata": {},
   "outputs": [],
   "source": [
    "import dill\n",
    "dill.load_session('notebook_env.db')"
   ]
  },
  {
   "cell_type": "code",
   "execution_count": 6,
   "metadata": {},
   "outputs": [],
   "source": [
    "# transform the documents in the training data to a document-term matrix\n",
    "X_test_vectorized = vec.transform(X_test)"
   ]
  },
  {
   "cell_type": "code",
   "execution_count": 7,
   "metadata": {},
   "outputs": [
    {
     "data": {
      "text/plain": [
       "<3635066x95442 sparse matrix of type '<class 'numpy.int64'>'\n",
       "\twith 3114159 stored elements in Compressed Sparse Row format>"
      ]
     },
     "execution_count": 7,
     "metadata": {},
     "output_type": "execute_result"
    }
   ],
   "source": [
    "X_train_vectorized"
   ]
  },
  {
   "cell_type": "code",
   "execution_count": 8,
   "metadata": {},
   "outputs": [
    {
     "data": {
      "text/plain": [
       "<908767x95442 sparse matrix of type '<class 'numpy.int64'>'\n",
       "\twith 776421 stored elements in Compressed Sparse Row format>"
      ]
     },
     "execution_count": 8,
     "metadata": {},
     "output_type": "execute_result"
    }
   ],
   "source": [
    "X_test_vectorized"
   ]
  },
  {
   "cell_type": "code",
   "execution_count": 10,
   "metadata": {},
   "outputs": [],
   "source": [
    "from imblearn.under_sampling import NearMiss, RandomUnderSampler\n",
    "rus = RandomUnderSampler(random_state=777)\n",
    "X_RUS, y_RUS = rus.fit_sample(X_train_vectorized, y_train)"
   ]
  },
  {
   "cell_type": "code",
   "execution_count": 11,
   "metadata": {},
   "outputs": [
    {
     "data": {
      "text/plain": [
       "<matplotlib.axes._subplots.AxesSubplot at 0x188e65fbeb8>"
      ]
     },
     "execution_count": 11,
     "metadata": {},
     "output_type": "execute_result"
    },
    {
     "data": {
      "image/png": "[encoded data removed]",
      "text/plain": [
       "<Figure size 432x288 with 1 Axes>"
      ]
     },
     "metadata": {},
     "output_type": "display_data"
    }
   ],
   "source": [
    "sns.countplot(y_RUS)"
   ]
  },
  {
   "cell_type": "code",
   "execution_count": 12,
   "metadata": {},
   "outputs": [
    {
     "data": {
      "text/plain": [
       "LogisticRegression(C=1.0, class_weight=None, dual=False, fit_intercept=True,\n",
       "          intercept_scaling=1, max_iter=100, multi_class='multinomial',\n",
       "          n_jobs=None, penalty='l2', random_state=None, solver='newton-cg',\n",
       "          tol=0.0001, verbose=0, warm_start=False)"
      ]
     },
     "execution_count": 12,
     "metadata": {},
     "output_type": "execute_result"
    }
   ],
   "source": [
    "from sklearn.linear_model import LogisticRegression,SGDClassifier\n",
    "model = LogisticRegression(multi_class='multinomial', solver='newton-cg')\n",
    "model.fit(X_RUS, y_RUS)"
   ]
  },
  {
   "cell_type": "code",
   "execution_count": 13,
   "metadata": {},
   "outputs": [],
   "source": [
    "test=pd.read_csv('test.csv')"
   ]
  },
  {
   "cell_type": "code",
   "execution_count": 14,
   "metadata": {},
   "outputs": [],
   "source": [
    "test.columns[test.isna().any()].tolist()\n",
    "test['Word'] = test['Word'].fillna(test['Word'].mode()[0])"
   ]
  },
  {
   "cell_type": "code",
   "execution_count": 15,
   "metadata": {},
   "outputs": [],
   "source": [
    "df_test=test.copy()"
   ]
  },
  {
   "cell_type": "code",
   "execution_count": 16,
   "metadata": {},
   "outputs": [],
   "source": [
    "tes=test['Word']"
   ]
  },
  {
   "cell_type": "code",
   "execution_count": 18,
   "metadata": {},
   "outputs": [
    {
     "ename": "ValueError",
     "evalue": "could not convert string to float: '>'",
     "output_type": "error",
     "traceback": [
      "\u001b[1;31m---------------------------------------------------------------------------\u001b[0m",
      "\u001b[1;31mValueError\u001b[0m                                Traceback (most recent call last)",
      "\u001b[1;32m<ipython-input-18-804da047b456>\u001b[0m in \u001b[0;36m<module>\u001b[1;34m()\u001b[0m\n\u001b[1;32m----> 1\u001b[1;33m \u001b[0mpre\u001b[0m\u001b[1;33m=\u001b[0m\u001b[0mmodel\u001b[0m\u001b[1;33m.\u001b[0m\u001b[0mpredict\u001b[0m\u001b[1;33m(\u001b[0m\u001b[0mtes\u001b[0m\u001b[1;33m)\u001b[0m\u001b[1;33m\u001b[0m\u001b[0m\n\u001b[0m",
      "\u001b[1;32m~\\Anaconda3\\lib\\site-packages\\sklearn\\linear_model\\base.py\u001b[0m in \u001b[0;36mpredict\u001b[1;34m(self, X)\u001b[0m\n\u001b[0;32m    279\u001b[0m             \u001b[0mPredicted\u001b[0m \u001b[1;32mclass\u001b[0m \u001b[0mlabel\u001b[0m \u001b[0mper\u001b[0m \u001b[0msample\u001b[0m\u001b[1;33m.\u001b[0m\u001b[1;33m\u001b[0m\u001b[0m\n\u001b[0;32m    280\u001b[0m         \"\"\"\n\u001b[1;32m--> 281\u001b[1;33m         \u001b[0mscores\u001b[0m \u001b[1;33m=\u001b[0m \u001b[0mself\u001b[0m\u001b[1;33m.\u001b[0m\u001b[0mdecision_function\u001b[0m\u001b[1;33m(\u001b[0m\u001b[0mX\u001b[0m\u001b[1;33m)\u001b[0m\u001b[1;33m\u001b[0m\u001b[0m\n\u001b[0m\u001b[0;32m    282\u001b[0m         \u001b[1;32mif\u001b[0m \u001b[0mlen\u001b[0m\u001b[1;33m(\u001b[0m\u001b[0mscores\u001b[0m\u001b[1;33m.\u001b[0m\u001b[0mshape\u001b[0m\u001b[1;33m)\u001b[0m \u001b[1;33m==\u001b[0m \u001b[1;36m1\u001b[0m\u001b[1;33m:\u001b[0m\u001b[1;33m\u001b[0m\u001b[0m\n\u001b[0;32m    283\u001b[0m             \u001b[0mindices\u001b[0m \u001b[1;33m=\u001b[0m \u001b[1;33m(\u001b[0m\u001b[0mscores\u001b[0m \u001b[1;33m>\u001b[0m \u001b[1;36m0\u001b[0m\u001b[1;33m)\u001b[0m\u001b[1;33m.\u001b[0m\u001b[0mastype\u001b[0m\u001b[1;33m(\u001b[0m\u001b[0mnp\u001b[0m\u001b[1;33m.\u001b[0m\u001b[0mint\u001b[0m\u001b[1;33m)\u001b[0m\u001b[1;33m\u001b[0m\u001b[0m\n",
      "\u001b[1;32m~\\Anaconda3\\lib\\site-packages\\sklearn\\linear_model\\base.py\u001b[0m in \u001b[0;36mdecision_function\u001b[1;34m(self, X)\u001b[0m\n\u001b[0;32m    255\u001b[0m                                  \"yet\" % {'name': type(self).__name__})\n\u001b[0;32m    256\u001b[0m \u001b[1;33m\u001b[0m\u001b[0m\n\u001b[1;32m--> 257\u001b[1;33m         \u001b[0mX\u001b[0m \u001b[1;33m=\u001b[0m \u001b[0mcheck_array\u001b[0m\u001b[1;33m(\u001b[0m\u001b[0mX\u001b[0m\u001b[1;33m,\u001b[0m \u001b[0maccept_sparse\u001b[0m\u001b[1;33m=\u001b[0m\u001b[1;34m'csr'\u001b[0m\u001b[1;33m)\u001b[0m\u001b[1;33m\u001b[0m\u001b[0m\n\u001b[0m\u001b[0;32m    258\u001b[0m \u001b[1;33m\u001b[0m\u001b[0m\n\u001b[0;32m    259\u001b[0m         \u001b[0mn_features\u001b[0m \u001b[1;33m=\u001b[0m \u001b[0mself\u001b[0m\u001b[1;33m.\u001b[0m\u001b[0mcoef_\u001b[0m\u001b[1;33m.\u001b[0m\u001b[0mshape\u001b[0m\u001b[1;33m[\u001b[0m\u001b[1;36m1\u001b[0m\u001b[1;33m]\u001b[0m\u001b[1;33m\u001b[0m\u001b[0m\n",
      "\u001b[1;32m~\\Anaconda3\\lib\\site-packages\\sklearn\\utils\\validation.py\u001b[0m in \u001b[0;36mcheck_array\u001b[1;34m(array, accept_sparse, accept_large_sparse, dtype, order, copy, force_all_finite, ensure_2d, allow_nd, ensure_min_samples, ensure_min_features, warn_on_dtype, estimator)\u001b[0m\n\u001b[0;32m    525\u001b[0m             \u001b[1;32mtry\u001b[0m\u001b[1;33m:\u001b[0m\u001b[1;33m\u001b[0m\u001b[0m\n\u001b[0;32m    526\u001b[0m                 \u001b[0mwarnings\u001b[0m\u001b[1;33m.\u001b[0m\u001b[0msimplefilter\u001b[0m\u001b[1;33m(\u001b[0m\u001b[1;34m'error'\u001b[0m\u001b[1;33m,\u001b[0m \u001b[0mComplexWarning\u001b[0m\u001b[1;33m)\u001b[0m\u001b[1;33m\u001b[0m\u001b[0m\n\u001b[1;32m--> 527\u001b[1;33m                 \u001b[0marray\u001b[0m \u001b[1;33m=\u001b[0m \u001b[0mnp\u001b[0m\u001b[1;33m.\u001b[0m\u001b[0masarray\u001b[0m\u001b[1;33m(\u001b[0m\u001b[0marray\u001b[0m\u001b[1;33m,\u001b[0m \u001b[0mdtype\u001b[0m\u001b[1;33m=\u001b[0m\u001b[0mdtype\u001b[0m\u001b[1;33m,\u001b[0m \u001b[0morder\u001b[0m\u001b[1;33m=\u001b[0m\u001b[0morder\u001b[0m\u001b[1;33m)\u001b[0m\u001b[1;33m\u001b[0m\u001b[0m\n\u001b[0m\u001b[0;32m    528\u001b[0m             \u001b[1;32mexcept\u001b[0m \u001b[0mComplexWarning\u001b[0m\u001b[1;33m:\u001b[0m\u001b[1;33m\u001b[0m\u001b[0m\n\u001b[0;32m    529\u001b[0m                 raise ValueError(\"Complex data not supported\\n\"\n",
      "\u001b[1;32m~\\Anaconda3\\lib\\site-packages\\numpy\\core\\numeric.py\u001b[0m in \u001b[0;36masarray\u001b[1;34m(a, dtype, order)\u001b[0m\n\u001b[0;32m    490\u001b[0m \u001b[1;33m\u001b[0m\u001b[0m\n\u001b[0;32m    491\u001b[0m     \"\"\"\n\u001b[1;32m--> 492\u001b[1;33m     \u001b[1;32mreturn\u001b[0m \u001b[0marray\u001b[0m\u001b[1;33m(\u001b[0m\u001b[0ma\u001b[0m\u001b[1;33m,\u001b[0m \u001b[0mdtype\u001b[0m\u001b[1;33m,\u001b[0m \u001b[0mcopy\u001b[0m\u001b[1;33m=\u001b[0m\u001b[1;32mFalse\u001b[0m\u001b[1;33m,\u001b[0m \u001b[0morder\u001b[0m\u001b[1;33m=\u001b[0m\u001b[0morder\u001b[0m\u001b[1;33m)\u001b[0m\u001b[1;33m\u001b[0m\u001b[0m\n\u001b[0m\u001b[0;32m    493\u001b[0m \u001b[1;33m\u001b[0m\u001b[0m\n\u001b[0;32m    494\u001b[0m \u001b[1;33m\u001b[0m\u001b[0m\n",
      "\u001b[1;31mValueError\u001b[0m: could not convert string to float: '>'"
     ]
    }
   ],
   "source": [
    "pre=model.predict(tes)"
   ]
  },
  {
   "cell_type": "code",
   "execution_count": 35,
   "metadata": {},
   "outputs": [],
   "source": [
    "from imblearn.pipeline import make_pipeline\n",
    "from imblearn.over_sampling import ADASYN, SMOTE, RandomOverSampler"
   ]
  },
  {
   "cell_type": "code",
   "execution_count": 36,
   "metadata": {},
   "outputs": [],
   "source": [
    "ros = RandomOverSampler(random_state=777)\n",
    "X_ROS, y_ROS = ros.fit_sample(X_train_vectorized, y_train)"
   ]
  },
  {
   "cell_type": "code",
   "execution_count": 37,
   "metadata": {},
   "outputs": [
    {
     "data": {
      "text/plain": [
       "<matplotlib.axes._subplots.AxesSubplot at 0x188814661d0>"
      ]
     },
     "execution_count": 37,
     "metadata": {},
     "output_type": "execute_result"
    },
    {
     "data": {
      "image/png": "[encoded data removed]",
      "text/plain": [
       "<Figure size 432x288 with 1 Axes>"
      ]
     },
     "metadata": {},
     "output_type": "display_data"
    }
   ],
   "source": [
    "sns.countplot(y_ROS)"
   ]
  },
  {
   "cell_type": "code",
   "execution_count": null,
   "metadata": {},
   "outputs": [],
   "source": [
    "from sklearn.linear_model import LogisticRegression,SGDClassifier\n",
    "model = LogisticRegression(multi_class='multinomial', solver='newton-cg')\n",
    "model.fit(X_ROS, y_ROS)"
   ]
  },
  {
   "cell_type": "code",
   "execution_count": null,
   "metadata": {},
   "outputs": [],
   "source": []
  }
 ],
 "metadata": {
  "kernelspec": {
   "display_name": "Python 3",
   "language": "python",
   "name": "python3"
  },
  "language_info": {
   "codemirror_mode": {
    "name": "ipython",
    "version": 3
   },
   "file_extension": ".py",
   "mimetype": "text/x-python",
   "name": "python",
   "nbconvert_exporter": "python",
   "pygments_lexer": "ipython3",
   "version": "3.6.5"
  }
 },
 "nbformat": 4,
 "nbformat_minor": 2
}
